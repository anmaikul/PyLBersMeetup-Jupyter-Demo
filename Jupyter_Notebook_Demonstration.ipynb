{
 "cells": [
  {
   "cell_type": "code",
   "execution_count": null,
   "metadata": {
    "collapsed": true
   },
   "outputs": [],
   "source": [
    "import pandas\n",
    "import numpy\n",
    "import matplotlib.pyplot as plt\n",
    "import scipy.stats as stats"
   ]
  },
  {
   "cell_type": "markdown",
   "metadata": {},
   "source": [
    "# <center>Overview of Jupyter Notebook</center>\n"
   ]
  },
  {
   "cell_type": "markdown",
   "metadata": {
    "slideshow": {
     "slide_type": "slide"
    }
   },
   "source": [
    "\n",
    "## An Interactive Environment for Python.\n",
    "* A web application that provides the interactive \"notebook\" front-end, and ties it with the kernel. \n",
    "* Designed specifically for data analysts / data scientists\n",
    "\n",
    "\n",
    "    \n",
    "\n"
   ]
  },
  {
   "cell_type": "markdown",
   "metadata": {},
   "source": [
    "## What it allows you to do\n",
    "* Create human readable documents \n",
    "* Simultaneously organize, design experiments, code, visualize, write results in a single page / format\n",
    "* Mix and match notes (Markdown), code, math (LaTeX), numerical results, and graphs (MatplotLib) / other visuals  all in one place\n",
    "* You can share notebooks easily \n",
    "    * Like passing out an interactive handout, rather than some static result. \n",
    "    * Others can modify/contribute"
   ]
  },
  {
   "cell_type": "markdown",
   "metadata": {},
   "source": [
    "## Technical Side\n",
    "* The notebook itself is a JSON file that contains all code, formatted results, images, etc...\n",
    "* Jupyter uses the kernel to run all code, and corresponding results are displayed conveniently within the notebook ap\n",
    "* Jupyter notebook connects to many kernels (not just ipython). \n",
    "    * ipython is the underlying \"engine\" that runs the code\n",
    "* Can be executed locally, or remotely through a server\n"
   ]
  },
  {
   "cell_type": "code",
   "execution_count": null,
   "metadata": {
    "collapsed": true
   },
   "outputs": [],
   "source": []
  },
  {
   "cell_type": "code",
   "execution_count": null,
   "metadata": {
    "collapsed": true
   },
   "outputs": [],
   "source": []
  },
  {
   "cell_type": "markdown",
   "metadata": {
    "collapsed": true
   },
   "source": [
    "# <center> A Look at the Dashboard </center>\n",
    "* Navigate files\n",
    "* Look at the running notebooks\n",
    "\n",
    "\n",
    "\n",
    "\n",
    "    "
   ]
  },
  {
   "cell_type": "markdown",
   "metadata": {},
   "source": [
    "# <center> The notebook </center>\n",
    "* Collection of cells\n",
    "* Seperate each functional unit, text block, and/or analytical step into different cell.\n",
    "\n",
    "\n"
   ]
  },
  {
   "cell_type": "markdown",
   "metadata": {},
   "source": [
    "## Two different modes: Edit mode, and command mode\n"
   ]
  },
  {
   "cell_type": "markdown",
   "metadata": {},
   "source": [
    "## Some command mode shortcuts:\n",
    "* Basic navigation: enter, shift-enter, up/k, down/j\n",
    "* Saving the notebook: s\n",
    "* Cell types: y, m, 1-6, t\n",
    "* Cell creation: a, b\n",
    "* Cell editing: x, c, v, d, z\n",
    "* Kernel operations: i, .\n",
    "    \n"
   ]
  },
  {
   "cell_type": "markdown",
   "metadata": {},
   "source": [
    "## Cell Types\n",
    "\n",
    "* Code\n",
    "* Markdown\n",
    "* Raw - Will not execute with the kernel, nor will it be formatted with Markdown\n",
    "    * Useful if you want to:\n",
    "        * Insert code without running (a quick and dirty \"commenting\")\n",
    "        * Insert text to typeset in language other than Markdown (e.g. LaTeX) and use NBConvert to convert notebook output to another format (e.g. TeX --> pdf)\n",
    "        \n",
    "            * Call ipython nbconvert --to latex notebook.ipynb\n",
    "\n"
   ]
  },
  {
   "cell_type": "markdown",
   "metadata": {},
   "source": [
    "# <center> Example Markdown Cell</center>\n"
   ]
  },
  {
   "cell_type": "markdown",
   "metadata": {},
   "source": [
    "1.  Use the function ```pandas.read_csv()``` to read in abridged IMDB database information, and store as a Pandas _DataFrame_ object. \n",
    "\n",
    "2. Visualize the first 10 entries in the cast DataFrame by calling ```cast.head(10)```"
   ]
  },
  {
   "cell_type": "markdown",
   "metadata": {},
   "source": [
    "# <center> Example Code Cell </center> "
   ]
  },
  {
   "cell_type": "code",
   "execution_count": null,
   "metadata": {
    "collapsed": false,
    "scrolled": true
   },
   "outputs": [],
   "source": [
    "import seaborn.apionly as sns\n",
    "iris = sns.load_dataset('iris')\n",
    "iris.head()\n"
   ]
  },
  {
   "cell_type": "markdown",
   "metadata": {},
   "source": [
    "## Jupyter App Menu/Toolbar\n",
    "\n",
    "* More Cell Toolbar Options\n",
    "    * Export to other formats\n",
    "    * Run all cells\n",
    "* Help links - convenient links to documentation for most Data Science libraries\n",
    "\n",
    "\n",
    "\n"
   ]
  },
  {
   "cell_type": "code",
   "execution_count": null,
   "metadata": {
    "collapsed": true
   },
   "outputs": [],
   "source": []
  },
  {
   "cell_type": "code",
   "execution_count": null,
   "metadata": {
    "collapsed": true
   },
   "outputs": [],
   "source": []
  },
  {
   "cell_type": "markdown",
   "metadata": {},
   "source": [
    "# <center> Some Useful Features of Jupyter Notebook </center>"
   ]
  },
  {
   "cell_type": "markdown",
   "metadata": {},
   "source": [
    "## Built-in Magic commands\n",
    "\n",
    "Allows many additional functionalities / configurations\n",
    "\n",
    "These are written in  __code__ cells\n",
    "\n",
    "### Some that I find useful:\n",
    "\n"
   ]
  },
  {
   "cell_type": "markdown",
   "metadata": {},
   "source": [
    "## Set Matplotlib properties\n",
    "\n",
    "## %matplotlib\n",
    "\n",
    "\n",
    "%matplotlib for setting up interactive plotting within the notebook\n",
    "* Set figures to appear within notebook\n",
    "``` \n",
    "%matplotlib inline\n",
    "```\n",
    "\n",
    "* Set figure format (e.g. pdf, svg)\n",
    "    \n",
    "```\n",
    "from IPython.display import set_matplotlib_formats\n",
    "set_matplotlib_formats('pdf', 'svg')\n",
    "```\n"
   ]
  },
  {
   "cell_type": "code",
   "execution_count": null,
   "metadata": {
    "collapsed": false
   },
   "outputs": [],
   "source": [
    "x = numpy.arange(-5,5,.1)\n",
    "y = numpy.sin(x)\n",
    "\n",
    "plt.plot(x,y)\n",
    "plt.title('Plot of y = sin(x)')\n",
    "plt.grid(True)\n",
    "plt.axhline(y=0, xmin=0, xmax=1, hold=None, linewidth=2, color='k')\n",
    "plt.axvline(x=0, ymin=0, ymax=1, hold=None, linewidth=2, color='k')\n",
    "\n",
    "plt.show()\n"
   ]
  },
  {
   "cell_type": "code",
   "execution_count": null,
   "metadata": {
    "collapsed": false
   },
   "outputs": [],
   "source": [
    "%matplotlib inline\n",
    "\n",
    "x = numpy.arange(-5,5,.1)\n",
    "y = numpy.sin(x)\n",
    "\n",
    "plt.title('Plot of y = sin(x)')\n",
    "plt.plot(x,y)\n",
    "plt.grid(True)\n",
    "plt.axhline(y=0, xmin=0, xmax=1, hold=None, linewidth=2, color='k')\n",
    "plt.axvline(x=0, ymin=0, ymax=1, hold=None, linewidth=2, color='k')\n",
    "\n"
   ]
  },
  {
   "cell_type": "markdown",
   "metadata": {},
   "source": [
    "## Export / convert notebook\n",
    "\n",
    "## %notebook\n",
    "\n",
    "%notebook for automatically exporting / converting notebooks (into PDF, Markdown, etc...)\n",
    "\n",
    "```\n",
    "%notebook -e export_notebook.ipynb\n",
    "%notebook -e export_webpage.html\n",
    "```"
   ]
  },
  {
   "cell_type": "markdown",
   "metadata": {},
   "source": [
    "## %precision\n",
    "\n",
    "%precision for formatting numbers\n"
   ]
  },
  {
   "cell_type": "code",
   "execution_count": null,
   "metadata": {
    "collapsed": false
   },
   "outputs": [],
   "source": [
    "%precision 5\n",
    "\n",
    "numpy.pi"
   ]
  },
  {
   "cell_type": "code",
   "execution_count": null,
   "metadata": {
    "collapsed": false
   },
   "outputs": [],
   "source": [
    "print numpy.pi\n"
   ]
  },
  {
   "cell_type": "code",
   "execution_count": null,
   "metadata": {
    "collapsed": false
   },
   "outputs": [],
   "source": [
    "iris.groupby('species').mean().head(8)"
   ]
  },
  {
   "cell_type": "markdown",
   "metadata": {},
   "source": [
    "## Execute shell commands and capture output\n",
    "\n",
    "## %sx\n",
    "\n",
    "Helpful for getting lists of files"
   ]
  },
  {
   "cell_type": "code",
   "execution_count": null,
   "metadata": {
    "collapsed": false
   },
   "outputs": [],
   "source": [
    "file_list = %sx ls\n",
    "file_list"
   ]
  },
  {
   "cell_type": "markdown",
   "metadata": {},
   "source": [
    "## or run shell commands in block using ! \n",
    "\n",
    "But this does _not_ capture the output to a python list"
   ]
  },
  {
   "cell_type": "code",
   "execution_count": null,
   "metadata": {
    "collapsed": false
   },
   "outputs": [],
   "source": [
    "!ls -l\n"
   ]
  },
  {
   "cell_type": "markdown",
   "metadata": {},
   "source": [
    "# <center> IPython Libraries </center>\n",
    "\n",
    "* Customize the behavior of the ipython shell\n",
    "* Import the modules in the usual way in Python\n",
    "* Can even create new extensions, new magic functions "
   ]
  },
  {
   "cell_type": "markdown",
   "metadata": {},
   "source": [
    "## HTML in IPython.core.display\n",
    "\n",
    "Embed HTML/CSS styles into your document"
   ]
  },
  {
   "cell_type": "markdown",
   "metadata": {},
   "source": [
    "### Set custom styles using CSS, and HTML() function"
   ]
  },
  {
   "cell_type": "code",
   "execution_count": null,
   "metadata": {
    "collapsed": false
   },
   "outputs": [],
   "source": [
    "from IPython.core.display import display, HTML\n",
    "css = open('notebook.css').read()\n",
    "HTML('<style>{}</style>'.format(css))"
   ]
  },
  {
   "cell_type": "markdown",
   "metadata": {},
   "source": [
    "### Custom HTML for display"
   ]
  },
  {
   "cell_type": "code",
   "execution_count": null,
   "metadata": {
    "collapsed": false
   },
   "outputs": [],
   "source": [
    "x = numpy.arange(-5,6,1)\n",
    "y = x**2\n",
    "\n",
    "dispstr = '<table border=\"1\"> <tr>'\n",
    "dispstr += '<td><b> $$x$$</b></td>'\n",
    "for i in range(0,len(x)):\n",
    "    dispstr += ('<td> {} </td>'.format(x[i]))\n",
    "dispstr += ('</tr>')\n",
    "\n",
    "dispstr += '<tr>'\n",
    "dispstr += '<td><b> $$f(x)=x^2$$</b></td>'\n",
    "for i in range(0,len(y)):\n",
    "    dispstr += ('<td> {} </td>'.format(y[i]))\n",
    "dispstr += ('</tr>')\n",
    "dispstr += ('</table>')\n",
    "\n",
    "display(HTML(dispstr))"
   ]
  },
  {
   "cell_type": "markdown",
   "metadata": {},
   "source": [
    "## Insert Images"
   ]
  },
  {
   "cell_type": "code",
   "execution_count": null,
   "metadata": {
    "collapsed": false
   },
   "outputs": [],
   "source": [
    "from IPython.display import Image\n",
    "Image(filename=\"logo.png\")"
   ]
  },
  {
   "cell_type": "markdown",
   "metadata": {
    "collapsed": true
   },
   "source": [
    "## Insert latex code / equations:\n",
    "\n",
    "### Within a \"code\" cell"
   ]
  },
  {
   "cell_type": "code",
   "execution_count": null,
   "metadata": {
    "collapsed": false
   },
   "outputs": [],
   "source": [
    "from IPython.display import Latex\n",
    "Latex(r\"\"\"\\begin{eqnarray}\n",
    "p(A\\vert B) = \\frac {p(A,B)}{p(B)} \\\\\n",
    "p(A\\vert B) = \\frac {p(B\\vert A)p(B)} {p(B)} \n",
    "\\end{eqnarray}\"\"\")"
   ]
  },
  {
   "cell_type": "markdown",
   "metadata": {},
   "source": [
    "## Using magic function %%latex, again in a \"code\" cell"
   ]
  },
  {
   "cell_type": "code",
   "execution_count": null,
   "metadata": {
    "collapsed": false
   },
   "outputs": [],
   "source": [
    "%%latex\n",
    "\\begin{eqnarray}\n",
    "p(A\\vert B) = \\frac {p(A,B)}{p(B)} \\\\\n",
    "p(A\\vert B) = \\frac {p(B\\vert A)p(B)} {p(B)} \n",
    "\\end{eqnarray}"
   ]
  },
  {
   "cell_type": "markdown",
   "metadata": {},
   "source": [
    "## Just using a \"Markdown: cell"
   ]
  },
  {
   "cell_type": "markdown",
   "metadata": {},
   "source": [
    "$$ \\begin{eqnarray}\n",
    "p(A\\vert B) = \\frac {p(A,B)}{p(B)} \\\\\n",
    "p(A\\vert B) = \\frac {p(B\\vert A)p(B)} {p(B)} \n",
    "\\end{eqnarray} $$"
   ]
  },
  {
   "cell_type": "markdown",
   "metadata": {},
   "source": [
    "## Real time interactive visualization\n",
    "\n",
    "Using ipywidgets"
   ]
  },
  {
   "cell_type": "code",
   "execution_count": null,
   "metadata": {
    "collapsed": false,
    "scrolled": true
   },
   "outputs": [],
   "source": [
    "from ipywidgets import interact, interactive, fixed\n",
    "import ipywidgets as widgets\n",
    "\n",
    "def draw_sin_cust_interv(delta=.1):\n",
    "    x = numpy.arange(-5,5,delta)\n",
    "    y = numpy.sin(x)\n",
    "\n",
    "    plt.title('Plot of y = sin(x), $\\Delta x={}$'.format(delta))\n",
    "    plt.axhline(y=0, xmin=0, xmax=1, hold=None, linewidth=2, color='k')\n",
    "    plt.axvline(x=0, ymin=0, ymax=1, hold=None, linewidth=2, color='k')\n",
    "    plt.grid(True)\n",
    "\n",
    "    plt.plot(x,y)\n",
    "    \n",
    "    \n",
    "slider = widgets.FloatSlider(min=.0001, max=3, step=.1,value=.1)\n",
    "interact(draw_sin_cust_interv, delta=slider, xlim=fixed([1, 15]))\n",
    "\n",
    "\n"
   ]
  },
  {
   "cell_type": "markdown",
   "metadata": {
    "collapsed": true
   },
   "source": []
  },
  {
   "cell_type": "code",
   "execution_count": null,
   "metadata": {
    "collapsed": true
   },
   "outputs": [],
   "source": []
  }
 ],
 "metadata": {
  "celltoolbar": "Edit Metadata",
  "kernelspec": {
   "display_name": "Python 2",
   "language": "python",
   "name": "python2"
  },
  "language_info": {
   "codemirror_mode": {
    "name": "ipython",
    "version": 2
   },
   "file_extension": ".py",
   "mimetype": "text/x-python",
   "name": "python",
   "nbconvert_exporter": "python",
   "pygments_lexer": "ipython2",
   "version": "2.7.11"
  }
 },
 "nbformat": 4,
 "nbformat_minor": 0
}
